{
 "cells": [
  {
   "cell_type": "markdown",
   "id": "60249640",
   "metadata": {},
   "source": [
    "# Relaciones binarias y propiedades\n",
    "\n",
    "Una **relación binaria** $R$ sobre un conjunto $A$ es un conjunto de pares ordenados, de manera que si $x$ está relacionado con $y$, entonces $(x,y)\\in R$.\n",
    "\n",
    "* Una relación es **reflexiva** si todo elemento de $A$ está relacionado consigo mismo.\n",
    "\n",
    "\n",
    "* Una relación es **simétrica** si siempre que $x$ está relacionado con $y$, necesariamente $y$ está relacionado con $x$.  \n",
    "\n",
    "\n",
    "* Una relación es **antisimétrica** si dados dos elementos distintos $x$ e $y$ se cumple <u>exactamente</u> una de las siguientes:\n",
    "\n",
    "    * $x$ e $y$ no están relacionados, esto es: $(x,y)\\notin R$ y $(y,x)\\notin R$\n",
    "\n",
    "    * $x$ está relacionado con $y$ pero $y$ no está relacionado con $x$, esto es: $(x,y)\\in R$ y $(y,x)\\notin R$ \n",
    "\n",
    "    * $y$ está relacionado con $x$ pero $x$ no está relacionado con $y$, esto es: $(x,y)\\notin R$ y $(y,x)\\in R$ \n",
    "\n",
    "\n",
    "* Una relación es **transitiva** si siempre que $x$ está relacionado con $y$, e $y$ está relacionado con $z$, entonces $x$ también está relacionado con $z$, esto es: si $(x,y)\\in R$ y $(y,z)\\in R$, entonces $(x,z)\\in R$"
   ]
  },
  {
   "cell_type": "markdown",
   "id": "34528706",
   "metadata": {},
   "source": [
    "## Funciones a implementar\n",
    "\n",
    "En el espacio a continuación deberá implementar las funciones que se indican para luego utilizarlas en la solución de los problemas planteados.\n",
    "\n",
    "Adicionalmente, puede agregar en este espacio las funciones implementadas en clase."
   ]
  },
  {
   "cell_type": "code",
   "execution_count": 12,
   "id": "a6ba696a",
   "metadata": {
    "scrolled": true
   },
   "outputs": [],
   "source": [
    "import numpy as np\n",
    "def get_matrix(relacion, conjunto):\n",
    "    \"\"\"\n",
    "    Completa la matriz de adyacencia.\n",
    "    \"\"\"\n",
    "    n = len(conjunto)\n",
    "    A = sorted(list(conjunto)) #sorted le da orden ascendente\n",
    "    #matriz adyacencia de tamaño n y llena de ceros\n",
    "    M = np.zeros((n,n), dtype = \"int\")\n",
    "    #llenar la matriz\n",
    "    #La relación está conformada por un conjunto (x,y), por lo que x(0) es el\n",
    "    #primero, mientras que x(1) es el segundo\n",
    "    for x in relacion:\n",
    "      i = A.index(x[0])\n",
    "      j = A.index(x[1])\n",
    "      M[i,j] = 1\n",
    "    return M\n",
    "\n",
    "def get_pairs(matriz, conjunto):\n",
    "    \"\"\"\n",
    "    Extrae pares ordenados a partir de una matriz de adyacencia.\n",
    "    \"\"\"\n",
    "    n = matriz.shape[0]\n",
    "    A = sorted(list(conjunto))\n",
    "    R =set([(A[i],A[j]) for i in range(n) for j in range(n) if matriz[i,j] == 1])\n",
    "    # set es una coleccion sin orden y sin elementos repetidos\n",
    "    return R\n",
    "\n",
    "def producto_booleano(matriz1, matriz2):\n",
    "    \"\"\"\n",
    "    Calcula el producto booleano de dos matrices cuadradas.\n",
    "    \"\"\"\n",
    "    n = matriz1.shape[0]\n",
    "    # @ simbolo para multiplicar matrices\n",
    "    M = matriz1 @ matriz2\n",
    "    for i in range (n):\n",
    "      for j in range(n):\n",
    "        if M [i,j] > 1:\n",
    "          M[i,j] = 1\n",
    "    return M\n",
    "\n",
    "def es_reflexiva(matriz):\n",
    "    n = matriz.shape[0]\n",
    "    for i in range(n):\n",
    "        if matriz[i, i] == 0:  # Si no hay relación (i, i)\n",
    "            return False\n",
    "    return True\n",
    "\n",
    "def es_simetrica(matriz):\n",
    "    n = matriz.shape[0]\n",
    "    for i in range(n):\n",
    "        for j in range(n):\n",
    "            if i != j and matriz[i, j] == 1 and matriz[j, i] == 1:\n",
    "                return True\n",
    "    return False\n",
    "\n",
    "def es_antisimetrica(matriz):\n",
    "    if es_simetrica(matriz) == True :\n",
    "        return False\n",
    "    return True\n",
    "\n",
    "def es_transitiva(matriz):\n",
    "    producto = producto_booleano(matriz, matriz)\n",
    "    return np.array_equal(producto, matriz)  # Compara el producto con la matriz original\n"
   ]
  },
  {
   "cell_type": "markdown",
   "id": "2c6eb768",
   "metadata": {},
   "source": [
    "## Problema 1. \n",
    "\n",
    "Sea $A$ el conjunto de divisores propios de 36. \n",
    "\n",
    "Se define la relación $R$ sobre $A$ de modo que $(x,y)\\in R$ si $x$ divide a $y$.\n",
    "\n",
    "a. Calcular la cardinalidad de $R$."
   ]
  },
  {
   "cell_type": "code",
   "execution_count": 13,
   "id": "f5850130",
   "metadata": {},
   "outputs": [
    {
     "name": "stdout",
     "output_type": "stream",
     "text": [
      "Set A (divisors of 36): [1, 2, 3, 4, 6, 9, 12, 18]\n",
      "a) La cardinalidad de R es: 27\n",
      "Relation R: [(1, 1), (2, 1), (2, 2), (3, 1), (3, 3), (4, 1), (4, 2), (4, 4), (6, 1), (6, 2), (6, 3), (6, 6), (9, 1), (9, 3), (9, 9), (12, 1), (12, 2), (12, 3), (12, 4), (12, 6), (12, 12), (18, 1), (18, 2), (18, 3), (18, 6), (18, 9), (18, 18)]\n"
     ]
    }
   ],
   "source": [
    "A = set()\n",
    "R = set()\n",
    "\n",
    "# armar conjunto\n",
    "for i in range(1,36):\n",
    "    if (36 % i == 0):\n",
    "        A.add(i)\n",
    "\n",
    "# Convert set to sorted list for indexing\n",
    "A_list = sorted(list(A))\n",
    "\n",
    "# Create the relation R where (x,y) ∈ R if x divides y\n",
    "for i in range(len(A_list)):\n",
    "    for j in range(len(A_list)):\n",
    "        if A_list[j] % A_list[i] == 0:  # if A_list[i] divides A_list[j]\n",
    "            R.add((A_list[j], A_list[i]))\n",
    "        if A_list[i] == A_list[j]:\n",
    "            R.add((A_list[i], A_list[j]))\n",
    "\n",
    "print(f\"Set A (divisors of 36): {sorted(A)}\")\n",
    "print(f\"a) La cardinalidad de R es: {len(R)}\")\n",
    "print(f\"Relation R: {sorted(R)}\")"
   ]
  },
  {
   "cell_type": "markdown",
   "id": "d3071f12",
   "metadata": {},
   "source": [
    "b. Determinar si la relación es **reflexiva**. \n",
    "\n",
    "Si no lo es, deberá escribir en la hoja de respuestas un ejemplo de un par de elementos que no cumpla con la propiedad."
   ]
  },
  {
   "cell_type": "code",
   "execution_count": 14,
   "id": "b169ad85",
   "metadata": {},
   "outputs": [
    {
     "name": "stdout",
     "output_type": "stream",
     "text": [
      "b) La relación es reflexiva: True\\n\n"
     ]
    }
   ],
   "source": [
    "matriz_R = get_matrix(R, A)\n",
    "ans_b = es_reflexiva(matriz_R)\n",
    "print(f\"b) La relación es reflexiva: {ans_b}\\\\n\")"
   ]
  },
  {
   "cell_type": "markdown",
   "id": "0e5d4786",
   "metadata": {},
   "source": [
    "c. Determinar si la relación es **simétrica**. \n",
    "\n",
    "Si no lo es, deberá escribir en la hoja de respuestas un ejemplo de un par de elementos que no cumpla con la propiedad."
   ]
  },
  {
   "cell_type": "code",
   "execution_count": 15,
   "id": "0300c68c",
   "metadata": {},
   "outputs": [
    {
     "name": "stdout",
     "output_type": "stream",
     "text": [
      "c) La relación es simétrica: False\\n\n"
     ]
    }
   ],
   "source": [
    "ans_c = es_simetrica(matriz_R)\n",
    "print(f\"c) La relación es simétrica: {ans_c}\\\\n\")"
   ]
  },
  {
   "cell_type": "markdown",
   "id": "5b04bfff",
   "metadata": {},
   "source": [
    "d. Determinar si la relación es **antisimétrica**. \n",
    "\n",
    "Si no lo es, deberá escribir en la hoja de respuestas un ejemplo de un par de elementos que no cumpla con la propiedad."
   ]
  },
  {
   "cell_type": "code",
   "execution_count": 16,
   "id": "a2f1832f",
   "metadata": {},
   "outputs": [
    {
     "name": "stdout",
     "output_type": "stream",
     "text": [
      "d) La relación es antisimétrica: True\\n\n"
     ]
    }
   ],
   "source": [
    "ans_d = es_antisimetrica(matriz_R)\n",
    "print(f\"d) La relación es antisimétrica: {ans_d}\\\\n\")"
   ]
  },
  {
   "cell_type": "markdown",
   "id": "b21765d1",
   "metadata": {},
   "source": [
    "e. Determinar si la relación es **transitiva**. \n",
    "\n",
    "Si no lo es, deberá escribir en la hoja de respuestas un ejemplo de un par de elementos que no cumpla con la propiedad."
   ]
  },
  {
   "cell_type": "code",
   "execution_count": 17,
   "id": "759137b9",
   "metadata": {},
   "outputs": [
    {
     "name": "stdout",
     "output_type": "stream",
     "text": [
      "e) La relación es transitiva: True\\n\n"
     ]
    }
   ],
   "source": [
    "ans_e = es_transitiva(matriz_R)\n",
    "print(f\"e) La relación es transitiva: {ans_e}\\\\n\")"
   ]
  },
  {
   "cell_type": "markdown",
   "id": "3f05f38f",
   "metadata": {},
   "source": [
    "## Problema 2. \n",
    "\n",
    "Sea $A$ el conjunto de enteros positivos entre 1 y 10. \n",
    "\n",
    "Se define la relación $R$ sobre $A$ de modo que $(x,y)\\in R$ si $x+y$ es impar.\n",
    "\n",
    "a. Calcular la cardinalidad de $R$."
   ]
  },
  {
   "cell_type": "code",
   "execution_count": 18,
   "id": "7185d523",
   "metadata": {},
   "outputs": [
    {
     "name": "stdout",
     "output_type": "stream",
     "text": [
      "32\n"
     ]
    }
   ],
   "source": [
    "# crear conjunto\n",
    "A = set()\n",
    "for i in range(2,10):\n",
    "    A.add(i)\n",
    "\n",
    "# crear relacion\n",
    "R = set()\n",
    "for i in range(2,10):\n",
    "    for j in range(2,10):\n",
    "        if (i + j) % 2 != 0:\n",
    "            R.add((i,j))\n",
    "\n",
    "print(len(R))"
   ]
  },
  {
   "cell_type": "markdown",
   "id": "f195725a",
   "metadata": {},
   "source": [
    "b. Determinar si la relación es **reflexiva**. \n",
    "\n",
    "Si no lo es, deberá escribir en la hoja de respuestas un ejemplo de un par de elementos que no cumpla con la propiedad."
   ]
  },
  {
   "cell_type": "code",
   "execution_count": 19,
   "id": "f289d7c1",
   "metadata": {},
   "outputs": [
    {
     "name": "stdout",
     "output_type": "stream",
     "text": [
      "b) La relación es reflexiva: False\n",
      "\n"
     ]
    }
   ],
   "source": [
    "M = get_matrix(R,A)\n",
    "print(f\"b) La relación es reflexiva: {es_reflexiva(M)}\\n\")"
   ]
  },
  {
   "cell_type": "markdown",
   "id": "70b832ab",
   "metadata": {},
   "source": [
    "c. Determinar si la relación es **simétrica**. \n",
    "\n",
    "Si no lo es, deberá escribir en la hoja de respuestas un ejemplo de un par de elementos que no cumpla con la propiedad."
   ]
  },
  {
   "cell_type": "code",
   "execution_count": 20,
   "id": "bb83bef6",
   "metadata": {},
   "outputs": [
    {
     "name": "stdout",
     "output_type": "stream",
     "text": [
      "c) La relación es simétrica: True\n",
      "\n"
     ]
    }
   ],
   "source": [
    "print(f\"c) La relación es simétrica: {es_simetrica(M)}\\n\")"
   ]
  },
  {
   "cell_type": "markdown",
   "id": "b6f42f65",
   "metadata": {},
   "source": [
    "d. Determinar si la relación es **antisimétrica**. \n",
    "\n",
    "Si no lo es, deberá escribir en la hoja de respuestas un ejemplo de un par de elementos que no cumpla con la propiedad."
   ]
  },
  {
   "cell_type": "code",
   "execution_count": 21,
   "id": "1afc98dc",
   "metadata": {},
   "outputs": [
    {
     "name": "stdout",
     "output_type": "stream",
     "text": [
      "d) La relación es antisimétrica: False\n",
      "\n"
     ]
    }
   ],
   "source": [
    "print(f\"d) La relación es antisimétrica: {es_antisimetrica(M)}\\n\")"
   ]
  },
  {
   "cell_type": "markdown",
   "id": "61517180",
   "metadata": {},
   "source": [
    "e. Determinar si la relación es **transitiva**. \n",
    "\n",
    "Si no lo es, deberá escribir en la hoja de respuestas un ejemplo de un par de elementos que no cumpla con la propiedad."
   ]
  },
  {
   "cell_type": "code",
   "execution_count": 22,
   "id": "8b79a2e7",
   "metadata": {},
   "outputs": [
    {
     "name": "stdout",
     "output_type": "stream",
     "text": [
      "e) La relación es transitiva: False\n",
      "\n"
     ]
    }
   ],
   "source": [
    "print(f\"e) La relación es transitiva: {es_transitiva(M)}\\n\")"
   ]
  }
 ],
 "metadata": {
  "kernelspec": {
   "display_name": "Python 3",
   "language": "python",
   "name": "python3"
  },
  "language_info": {
   "codemirror_mode": {
    "name": "ipython",
    "version": 3
   },
   "file_extension": ".py",
   "mimetype": "text/x-python",
   "name": "python",
   "nbconvert_exporter": "python",
   "pygments_lexer": "ipython3",
   "version": "3.10.12"
  }
 },
 "nbformat": 4,
 "nbformat_minor": 5
}
