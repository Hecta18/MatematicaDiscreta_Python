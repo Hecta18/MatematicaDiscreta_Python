{
 "cells": [
  {
   "cell_type": "code",
   "execution_count": null,
   "id": "1561eef4",
   "metadata": {},
   "outputs": [],
   "source": [
    "import itertools as it\n",
    "import numpy as np\n",
    "\n",
    "def get_matrix(relacion, conjunto):\n",
    "    n = len(conjunto)\n",
    "    A = sorted(list(conjunto)) #sorted le da orden ascendente\n",
    "    #matriz adyacencia de tamaño n y llena de ceros\n",
    "    M = np.zeros((n,n), dtype = \"int\")\n",
    "    #llenar la matriz\n",
    "    #La relación está conformada por un conjunto (x,y), por lo que x(0) es el\n",
    "    #primero, mientras que x(1) es el segundo\n",
    "    for x in relacion:\n",
    "      i = A.index(x[0])\n",
    "      j = A.index(x[1])\n",
    "      M[i,j] = 1\n",
    "    return M\n",
    "\n",
    "def get_pairs(matriz, conjunto):\n",
    "    \"\"\"\n",
    "    Extrae pares ordenados a partir de una matriz de adyacencia.\n",
    "    \"\"\"\n",
    "    n = matriz.shape[0]\n",
    "    A = sorted(list(conjunto))\n",
    "    R =set([(A[i],A[j]) for i in range(n) for j in range(n) if matriz[i,j] == 1])\n",
    "    # set es una coleccion sin orden y sin elementos repetidos\n",
    "    return R\n",
    "\n",
    "def producto_booleano(matriz1, matriz2):\n",
    "    n = matriz1.shape[0]\n",
    "    # @ simbolo para multiplicar matrices\n",
    "    M = matriz1 @ matriz2\n",
    "    for i in range (n):\n",
    "      for j in range(n):\n",
    "        if M [i,j] > 1:\n",
    "          M[i,j] = 1\n",
    "    return M\n",
    "\n",
    "def es_reflexiva(matriz):\n",
    "    n = matriz.shape[0]\n",
    "    for i in range(n):\n",
    "        if matriz[i, i] == 0:  # Si no hay relación (i, i)\n",
    "            return False\n",
    "    return True\n",
    "\n",
    "def es_simetrica(matriz):\n",
    "    n = matriz.shape[0]\n",
    "    for i in range(n):\n",
    "        for j in range(n):\n",
    "            if i != j and matriz[i, j] == 1 and matriz[j, i] == 1:\n",
    "                return True\n",
    "    return False\n",
    "\n",
    "def es_antisimetrica(matriz):\n",
    "    if es_simetrica(matriz) == True :\n",
    "        return False\n",
    "    return True\n",
    "\n",
    "def es_transitiva(matriz):\n",
    "    producto = producto_booleano(matriz, matriz)\n",
    "    return np.array_equal(producto, matriz)  # Compara el producto con la matriz original\n",
    "    \n",
    "\n",
    "def get_clases_eq(matriz, conjunto):\n",
    "    \"\"\"\n",
    "    Esta función encuentra las clases de equivalencia de una relacion de equivalencia.\n",
    "\n",
    "    Args:\n",
    "        matriz (matrix): Matriz de adyacencia de una relación binaria.\n",
    "        conjunto (set): Conjunto de entrada.\n",
    "\n",
    "    Returns:\n",
    "        clases: (list) [[a],[b],...] Lista de clases de equivalencia.\n",
    "    \"\"\"\n",
    "    clases = []\n",
    "    A = sorted(list(conjunto))  # Lista ordenada de elementos del conjunto\n",
    "    elementos_procesados = set()\n",
    "    \n",
    "    for i, a in enumerate(A): # enumerate para obtener el indice y elemento\n",
    "        if a in elementos_procesados:\n",
    "            continue\n",
    "            \n",
    "        clase = set()\n",
    "        clase.add(a)\n",
    "        \n",
    "        # Buscar todos los elementos relacionados con 'a'\n",
    "        for j, b in enumerate(A):\n",
    "            if matriz[i, j] == 1 and a != b:\n",
    "                clase.add(b)\n",
    "        \n",
    "        # Marcar todos los elementos de esta clase como procesados\n",
    "        elementos_procesados.update(clase)\n",
    "        \n",
    "        # Agregar clases no triviales (con más de un elemento) y triviales (1 elemento)\n",
    "        if len(clase) >= 1:\n",
    "            clases.append(clase)\n",
    "    \n",
    "    return clases"
   ]
  },
  {
   "cell_type": "markdown",
   "id": "1d61a6f8",
   "metadata": {},
   "source": [
    "# Relaciones de equivalencia\n",
    "\n",
    "Una relación $R$ sobre un conjunto $A$ es una **relación de equivalencia** si y solo si $R$ es:\n",
    "* Reflexiva\n",
    "* Simétrica\n",
    "* Transitiva\n",
    "\n",
    "# Clases de equivalencia\n",
    "\n",
    "Sean $R$ una relación de equivalencia sobre un conjunto $A$ y $a\\in A$.\n",
    "\n",
    "Entonces la **clase de equivalencia** de $a$ es el conjunto $[a]=\\{x\\in A|\\ (x,a)\\in R\\}$, el cual contiene todos los elementos $x$ de 𝐴 que están relacionados con $a$."
   ]
  },
  {
   "cell_type": "markdown",
   "id": "40e545f8",
   "metadata": {},
   "source": [
    "## Ejercicio 1\n",
    "\n",
    "Sean $A_1=\\{x\\in \\mathbb{Z}|\\ -9\\leq x \\leq 9\\}$ un conjunto y $R_1=\\{(a,b)|\\ a \\operatorname{mod }5=b \\operatorname{mod }5\\}$ una relación sobre $A_1$.\n",
    "\n",
    "Definir la relación $R_1$."
   ]
  },
  {
   "cell_type": "code",
   "execution_count": 23,
   "id": "e5c575ba",
   "metadata": {},
   "outputs": [
    {
     "name": "stdout",
     "output_type": "stream",
     "text": [
      "Cardinalidad A: 19\n"
     ]
    }
   ],
   "source": [
    "A = set()\n",
    "for i in range(-9,10):\n",
    "    A.add(i)\n",
    "\n",
    "n = len(A)\n",
    "\n",
    "R = set()\n",
    "A_list = sorted(list(A))\n",
    "for i in range(len(A_list)):\n",
    "    for j in range(len(A_list)):\n",
    "        if A_list[i] % 5 == A_list[j] % 5:\n",
    "            R.add((A_list[i], A_list[j]))\n",
    "\n",
    "print(\"Cardinalidad A:\", n)"
   ]
  },
  {
   "cell_type": "markdown",
   "id": "92aadf64",
   "metadata": {},
   "source": [
    "Comprobar que $R_1$ es de equivalencia."
   ]
  },
  {
   "cell_type": "code",
   "execution_count": 24,
   "id": "1b432233",
   "metadata": {},
   "outputs": [
    {
     "name": "stdout",
     "output_type": "stream",
     "text": [
      "R es una relación de equivalencia\n"
     ]
    }
   ],
   "source": [
    "M = get_matrix(R,A)\n",
    "\n",
    "if es_simetrica(M) and es_reflexiva(M) and es_transitiva(M):\n",
    "    print(\"R es una relación de equivalencia\")\n",
    "else:\n",
    "    print(\"R no es una relación de equivalencia\")"
   ]
  },
  {
   "cell_type": "markdown",
   "id": "4243665b",
   "metadata": {},
   "source": [
    "Listar todas las distintas clases de equivalencia de $R_1$ y sus elementos."
   ]
  },
  {
   "cell_type": "code",
   "execution_count": 25,
   "id": "b5bb6c09",
   "metadata": {},
   "outputs": [
    {
     "name": "stdout",
     "output_type": "stream",
     "text": [
      "Clases de equivalencia:\n",
      "[{0, -4, 5, -9}, {-8, 1, -3, 6}, {-7, 2, -2, 7}, {8, -6, 3, -1}, {9, -5, 4}]\n"
     ]
    }
   ],
   "source": [
    "print(\"Clases de equivalencia:\")\n",
    "print(get_clases_eq(M,A))"
   ]
  },
  {
   "cell_type": "markdown",
   "id": "7bce4467",
   "metadata": {},
   "source": [
    "## Ejercicio 2\n",
    "\n",
    "Sean $A_2=\\{(x_3,x_2,x_1,x_0)|\\ x_i\\in \\{0,1\\}\\}$ el conjunto de cadenas binarias de tamaño 4 y $R_2=\\{(x,y)|\\ x\\ \\&\\ y \\text{ conciden en los primeros dos bits}\\}$ una relación sobre $A_2$.\n",
    "\n",
    "Definir la relación $R_2$."
   ]
  },
  {
   "cell_type": "code",
   "execution_count": null,
   "id": "2f42cf40",
   "metadata": {},
   "outputs": [
    {
     "name": "stdout",
     "output_type": "stream",
     "text": [
      "Cardinalidad A2: 16\n",
      "{((0, 1, 0, 1), (0, 1, 0, 0)), ((1, 0, 0, 1), (1, 0, 0, 1)), ((0, 0, 0, 0), (0, 0, 1, 0)), ((1, 1, 0, 1), (1, 1, 1, 1)), ((0, 1, 0, 1), (0, 1, 0, 1)), ((1, 1, 0, 0), (1, 1, 1, 0)), ((0, 0, 1, 1), (0, 0, 0, 1)), ((1, 1, 1, 0), (1, 1, 1, 0)), ((0, 0, 0, 0), (0, 0, 0, 0)), ((0, 0, 0, 0), (0, 0, 1, 1)), ((0, 0, 0, 1), (0, 0, 1, 0)), ((1, 0, 1, 1), (1, 0, 0, 0)), ((0, 1, 1, 1), (0, 1, 1, 0)), ((1, 0, 1, 0), (1, 0, 1, 0)), ((1, 1, 0, 1), (1, 1, 0, 0)), ((0, 1, 1, 0), (0, 1, 1, 0)), ((1, 1, 1, 1), (1, 1, 1, 0)), ((1, 0, 1, 1), (1, 0, 1, 1)), ((0, 0, 0, 1), (0, 0, 0, 0)), ((0, 1, 1, 1), (0, 1, 1, 1)), ((1, 1, 0, 1), (1, 1, 0, 1)), ((0, 0, 0, 1), (0, 0, 1, 1)), ((0, 1, 1, 0), (0, 1, 1, 1)), ((1, 0, 0, 0), (1, 0, 1, 0)), ((1, 0, 1, 1), (1, 0, 0, 1)), ((0, 0, 1, 0), (0, 0, 1, 0)), ((0, 1, 1, 1), (0, 1, 0, 0)), ((1, 0, 0, 1), (1, 0, 1, 0)), ((0, 1, 0, 0), (0, 1, 1, 0)), ((0, 1, 1, 0), (0, 1, 0, 0)), ((0, 0, 1, 0), (0, 0, 0, 0)), ((0, 0, 1, 0), (0, 0, 1, 1)), ((1, 1, 1, 0), (1, 1, 1, 1)), ((0, 0, 0, 0), (0, 0, 0, 1)), ((0, 1, 0, 0), (0, 1, 1, 1)), ((1, 1, 0, 0), (1, 1, 1, 1)), ((1, 0, 1, 0), (1, 0, 0, 0)), ((0, 1, 1, 1), (0, 1, 0, 1)), ((1, 1, 0, 1), (1, 1, 1, 0)), ((0, 0, 1, 1), (0, 0, 1, 0)), ((0, 1, 1, 0), (0, 1, 0, 1)), ((1, 1, 1, 1), (1, 1, 1, 1)), ((0, 0, 0, 1), (0, 0, 0, 1)), ((1, 0, 1, 0), (1, 0, 1, 1)), ((0, 1, 0, 0), (0, 1, 0, 0)), ((0, 1, 0, 1), (0, 1, 1, 0)), ((0, 0, 1, 1), (0, 0, 0, 0)), ((1, 1, 0, 0), (1, 1, 0, 0)), ((1, 0, 0, 0), (1, 0, 0, 0)), ((1, 1, 1, 0), (1, 1, 0, 0)), ((1, 0, 1, 0), (1, 0, 0, 1)), ((0, 0, 1, 1), (0, 0, 1, 1)), ((1, 0, 1, 1), (1, 0, 1, 0)), ((1, 0, 0, 0), (1, 0, 1, 1)), ((1, 1, 0, 0), (1, 1, 0, 1)), ((1, 1, 1, 0), (1, 1, 0, 1)), ((1, 1, 1, 1), (1, 1, 0, 0)), ((1, 0, 0, 1), (1, 0, 0, 0)), ((0, 1, 0, 0), (0, 1, 0, 1)), ((0, 1, 0, 1), (0, 1, 1, 1)), ((0, 0, 1, 0), (0, 0, 0, 1)), ((1, 0, 0, 0), (1, 0, 0, 1)), ((1, 0, 0, 1), (1, 0, 1, 1)), ((1, 1, 1, 1), (1, 1, 0, 1))}\n",
      "Cardinalidad R2: 64\n"
     ]
    }
   ],
   "source": [
    "#definir conjunto\n",
    "A2 = list()\n",
    "for i in range(0,2):\n",
    "    for j in range(0,2):\n",
    "        for k in range(0,2):\n",
    "            for l in range(0,2):\n",
    "                A2.append((i,j,k,l))\n",
    "\n",
    "print(\"Cardinalidad A2:\", len(A2))\n",
    "\n",
    "#definir relacion\n",
    "R2 = set()\n",
    "A2_list = sorted(list(A2))\n",
    "for i in range(len(A2_list)):\n",
    "    for j in range(len(A2_list)):\n",
    "        if A2_list[i][0] == A2_list[j][0] and A2_list[i][1] == A2_list[j][1]:\n",
    "            R2.add((A2_list[i], A2_list[j]))\n",
    "\n",
    "print(\"Cardinalidad R2:\", len(R2))"
   ]
  },
  {
   "cell_type": "markdown",
   "id": "cee56ea9",
   "metadata": {},
   "source": [
    "Comprobar que $R_2$ es de equivalencia."
   ]
  },
  {
   "cell_type": "code",
   "execution_count": 39,
   "id": "0d7eaf28",
   "metadata": {},
   "outputs": [
    {
     "name": "stdout",
     "output_type": "stream",
     "text": [
      "R2 es una relación de equivalencia\n"
     ]
    }
   ],
   "source": [
    "M2 = get_matrix(R2,A2)\n",
    "if es_simetrica(M2) and es_reflexiva(M2) and es_transitiva(M2):\n",
    "    print(\"R2 es una relación de equivalencia\")\n",
    "else:\n",
    "    print(\"R2 no es una relación de equivalencia\")"
   ]
  },
  {
   "cell_type": "markdown",
   "id": "4779b557",
   "metadata": {},
   "source": [
    "Listar todas las distintas clases de equivalencia de $R_2$ y sus elementos."
   ]
  },
  {
   "cell_type": "code",
   "execution_count": 45,
   "id": "f342acb1",
   "metadata": {},
   "outputs": [
    {
     "name": "stdout",
     "output_type": "stream",
     "text": [
      "Clases de equivalencia R2:\n",
      "[{(0, 0, 0, 1), (0, 0, 1, 0), (0, 0, 1, 1), (0, 0, 0, 0)}, {(0, 1, 0, 0), (0, 1, 0, 1), (0, 1, 1, 0), (0, 1, 1, 1)}, {(1, 0, 0, 0), (1, 0, 0, 1), (1, 0, 1, 0), (1, 0, 1, 1)}, {(1, 1, 0, 0), (1, 1, 0, 1), (1, 1, 1, 0), (1, 1, 1, 1)}]\n"
     ]
    }
   ],
   "source": [
    "print(\"Clases de equivalencia R2:\")\n",
    "print(get_clases_eq(M2,A2))"
   ]
  }
 ],
 "metadata": {
  "kernelspec": {
   "display_name": "Python 3",
   "language": "python",
   "name": "python3"
  },
  "language_info": {
   "codemirror_mode": {
    "name": "ipython",
    "version": 3
   },
   "file_extension": ".py",
   "mimetype": "text/x-python",
   "name": "python",
   "nbconvert_exporter": "python",
   "pygments_lexer": "ipython3",
   "version": "3.10.12"
  }
 },
 "nbformat": 4,
 "nbformat_minor": 5
}
