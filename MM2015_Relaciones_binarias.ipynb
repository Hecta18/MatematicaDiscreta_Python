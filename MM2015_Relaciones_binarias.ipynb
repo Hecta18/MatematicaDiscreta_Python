{
  "cells": [
    {
      "cell_type": "markdown",
      "id": "08cfc375",
      "metadata": {
        "id": "08cfc375"
      },
      "source": [
        "# Relaciones binarias"
      ]
    },
    {
      "cell_type": "markdown",
      "id": "a377d106",
      "metadata": {
        "id": "a377d106"
      },
      "source": [
        "Una **relación binaria** $R$ sobre un conjunto $A$ es un conjunto de pares ordenados, de manera que si $x$ está relacionado con $y$, entonces $(x,y)\\in R$."
      ]
    },
    {
      "cell_type": "code",
      "execution_count": null,
      "id": "99ebc074",
      "metadata": {
        "id": "99ebc074"
      },
      "outputs": [],
      "source": [
        "import numpy as np\n",
        "\n",
        "def get_matrix(relacion, conjunto):\n",
        "    \"\"\"\n",
        "    Completa la matriz de adyacencia.\n",
        "    \"\"\"\n",
        "    n = len(conjunto)\n",
        "    A = sorted(list(conjunto))\n",
        "    #matriz adyacencia de tamaño n y llena de ceros\n",
        "    M = np.zeros((n,n), dtype = \"int\")\n",
        "    #llenar la matriz\n",
        "    #La relación está conformada por un conjunto (x,y), por lo que x(0) es el\n",
        "    #primero, mientras que x(1) es el segundo\n",
        "    for x in relacion:\n",
        "      i = A.index(x[0])\n",
        "      j = A.index(x[1])\n",
        "      M[i,j] = 1\n",
        "    return M\n",
        "\n",
        "def get_pairs(matriz, conjunto):\n",
        "    \"\"\"\n",
        "    Extrae pares ordenados a partir de una matriz de adyacencia.\n",
        "    \"\"\"\n",
        "    n = matriz.shape[0]\n",
        "    A = sorted(list(conjunto))\n",
        "    R =set([(A[i],A[j]) for i in range(n) for j in range(n) if matriz[i,j] == 1])\n",
        "    return R\n",
        "\n",
        "def producto_booleano(matriz1, matriz2):\n",
        "    \"\"\"\n",
        "    Calcula el producto booleano de dos matrices cuadradas.\n",
        "    \"\"\"\n",
        "    n = matriz1.shape[0]\n",
        "    #simbolo para multiplicar matrices\n",
        "    M = matriz1 @ matriz2\n",
        "    for i in range (n):\n",
        "      for j in range(n):\n",
        "        if M [i,j] > 1:\n",
        "          M[i,j] = 1\n",
        "    return M\n",
        "def precedence(matriz1, matriz2):\n",
        "    \"\"\"\n",
        "    Determina si matriz1 precede a matriz2.\n",
        "    \"\"\"\n",
        "\n",
        "def get_powerset(conjunto):\n",
        "    \"\"\"\n",
        "    Calcula el conjunto potencia de un conjunto.\n",
        "    \"\"\"\n"
      ]
    },
    {
      "cell_type": "markdown",
      "id": "92ef69b0",
      "metadata": {
        "id": "92ef69b0"
      },
      "source": [
        "## Ejercicio 1\n",
        "\n",
        "Sea $A=\\{1,2,\\ldots,10\\}$ un conjunto.\n",
        "\n",
        "a. Se define la relación $R$ sobre $A$ de modo que $(x,y)\\in R$ si $x+2=y$. Listar lo elementos de $R$."
      ]
    },
    {
      "cell_type": "code",
      "execution_count": null,
      "id": "9ef05d80",
      "metadata": {
        "id": "9ef05d80",
        "colab": {
          "base_uri": "https://localhost:8080/"
        },
        "outputId": "d470f1cb-be8d-4dc6-f15f-7373aa8dba4a"
      },
      "outputs": [
        {
          "output_type": "stream",
          "name": "stdout",
          "text": [
            "{(2, 4), (6, 8), (4, 6), (8, 10), (5, 7), (7, 9), (1, 3), (3, 5)}\n"
          ]
        }
      ],
      "source": [
        "A = list(range(1,11))\n",
        "R = set((x,y) for x in A for y in A if x+2 == y)\n",
        "print(R)"
      ]
    },
    {
      "cell_type": "markdown",
      "id": "3e57c161",
      "metadata": {
        "id": "3e57c161"
      },
      "source": [
        "b. Completar la matriz de adyacencia de la relación $R$."
      ]
    },
    {
      "cell_type": "code",
      "execution_count": null,
      "id": "81a39dcc",
      "metadata": {
        "scrolled": true,
        "id": "81a39dcc",
        "colab": {
          "base_uri": "https://localhost:8080/"
        },
        "outputId": "3a1a2b28-874a-44f1-bb4a-2ce4d4ec99b1"
      },
      "outputs": [
        {
          "output_type": "stream",
          "name": "stdout",
          "text": [
            "[[0 0 1 0 0 0 0 0 0 0]\n",
            " [0 0 0 1 0 0 0 0 0 0]\n",
            " [0 0 0 0 1 0 0 0 0 0]\n",
            " [0 0 0 0 0 1 0 0 0 0]\n",
            " [0 0 0 0 0 0 1 0 0 0]\n",
            " [0 0 0 0 0 0 0 1 0 0]\n",
            " [0 0 0 0 0 0 0 0 1 0]\n",
            " [0 0 0 0 0 0 0 0 0 1]\n",
            " [0 0 0 0 0 0 0 0 0 0]\n",
            " [0 0 0 0 0 0 0 0 0 0]]\n"
          ]
        }
      ],
      "source": [
        "matrizA = get_matrix(R, A)\n",
        "print(matrizA)"
      ]
    },
    {
      "cell_type": "markdown",
      "id": "85e53232",
      "metadata": {
        "id": "85e53232"
      },
      "source": [
        "c. Calcular la matriz $M_{R\\circ R}$ y listar los pares en $R\\circ R$."
      ]
    },
    {
      "cell_type": "code",
      "execution_count": null,
      "id": "1bca6977",
      "metadata": {
        "scrolled": true,
        "id": "1bca6977",
        "colab": {
          "base_uri": "https://localhost:8080/"
        },
        "outputId": "5e33934c-2402-473f-9ef1-deeb1c9d202a"
      },
      "outputs": [
        {
          "output_type": "stream",
          "name": "stdout",
          "text": [
            "[[0 0 0 0 1 0 0 0 0 0]\n",
            " [0 0 0 0 0 1 0 0 0 0]\n",
            " [0 0 0 0 0 0 1 0 0 0]\n",
            " [0 0 0 0 0 0 0 1 0 0]\n",
            " [0 0 0 0 0 0 0 0 1 0]\n",
            " [0 0 0 0 0 0 0 0 0 1]\n",
            " [0 0 0 0 0 0 0 0 0 0]\n",
            " [0 0 0 0 0 0 0 0 0 0]\n",
            " [0 0 0 0 0 0 0 0 0 0]\n",
            " [0 0 0 0 0 0 0 0 0 0]]\n",
            "{(1, 5), (3, 7), (2, 6), (6, 10), (4, 8), (5, 9)}\n"
          ]
        }
      ],
      "source": [
        "  M2 = producto_booleano(matrizA,matrizA)\n",
        "R2 = get_pairs(M2,A)\n",
        "print(M2)\n",
        "print(R2)\n"
      ]
    },
    {
      "cell_type": "markdown",
      "id": "9315d4da",
      "metadata": {
        "id": "9315d4da"
      },
      "source": [
        "# Propiedades de relaciones"
      ]
    },
    {
      "cell_type": "markdown",
      "id": "eee17804",
      "metadata": {
        "id": "eee17804"
      },
      "source": [
        "## Ejercicio 2.\n",
        "Sea $A=\\{1,2,3,4,6,8,12\\}$ el conjunto de divisores propios de 24.\n",
        "\n",
        "a. Se define la relación $R$ sobre $A$ de modo que $(x,y)\\in R$ si $x$ divide a $y$. Completar la matriz de adyacencia de la relación $R$."
      ]
    },
    {
      "cell_type": "code",
      "execution_count": null,
      "id": "9ef61a72",
      "metadata": {
        "id": "9ef61a72"
      },
      "outputs": [],
      "source": []
    },
    {
      "cell_type": "markdown",
      "id": "59f7aee3",
      "metadata": {
        "id": "59f7aee3"
      },
      "source": [
        "b. Determinar si la relación es **reflexiva**."
      ]
    },
    {
      "cell_type": "code",
      "execution_count": null,
      "id": "6620abaa",
      "metadata": {
        "id": "6620abaa"
      },
      "outputs": [],
      "source": []
    },
    {
      "cell_type": "markdown",
      "id": "266f3d23",
      "metadata": {
        "id": "266f3d23"
      },
      "source": [
        "c. Determinar si la relación es **simétrica**."
      ]
    },
    {
      "cell_type": "code",
      "execution_count": null,
      "id": "5788665e",
      "metadata": {
        "id": "5788665e"
      },
      "outputs": [],
      "source": []
    },
    {
      "cell_type": "markdown",
      "id": "c7a2efa5",
      "metadata": {
        "id": "c7a2efa5"
      },
      "source": [
        "d. Determinar si la relación es **antisimétrica**.  "
      ]
    },
    {
      "cell_type": "code",
      "execution_count": null,
      "id": "227c2165",
      "metadata": {
        "id": "227c2165"
      },
      "outputs": [],
      "source": []
    },
    {
      "cell_type": "markdown",
      "id": "b122fecb",
      "metadata": {
        "id": "b122fecb"
      },
      "source": [
        "e. Determinar si la relación es **transitiva**."
      ]
    },
    {
      "cell_type": "code",
      "execution_count": null,
      "id": "3f624b3f",
      "metadata": {
        "id": "3f624b3f"
      },
      "outputs": [],
      "source": []
    },
    {
      "cell_type": "markdown",
      "id": "d5db5311",
      "metadata": {
        "id": "d5db5311"
      },
      "source": [
        "## Ejercicio 3.\n",
        "\n",
        "Sea $A=\\{w,x,y,z\\}$ un conjunto.\n",
        "\n",
        "a. Se define la relación $R$ sobre $\\mathcal{P}(A)$ de modo que $(X,Y)\\in R$ si $|X|\\leq |Y|$. Completar la matriz de adyacencia de la relación $R$."
      ]
    },
    {
      "cell_type": "code",
      "execution_count": null,
      "id": "a132d183",
      "metadata": {
        "id": "a132d183"
      },
      "outputs": [],
      "source": []
    },
    {
      "cell_type": "markdown",
      "id": "ce368c09",
      "metadata": {
        "id": "ce368c09"
      },
      "source": [
        "b. Determinar si la relación es **reflexiva**."
      ]
    },
    {
      "cell_type": "code",
      "execution_count": null,
      "id": "daceb57c",
      "metadata": {
        "id": "daceb57c"
      },
      "outputs": [],
      "source": []
    },
    {
      "cell_type": "markdown",
      "id": "80fbd193",
      "metadata": {
        "id": "80fbd193"
      },
      "source": [
        "c. Determinar si la relación es **simétrica**."
      ]
    },
    {
      "cell_type": "code",
      "execution_count": null,
      "id": "3208fe87",
      "metadata": {
        "id": "3208fe87"
      },
      "outputs": [],
      "source": []
    },
    {
      "cell_type": "markdown",
      "id": "50868505",
      "metadata": {
        "id": "50868505"
      },
      "source": [
        "d. Determinar si la relación es **antisimétrica**.  "
      ]
    },
    {
      "cell_type": "code",
      "execution_count": null,
      "id": "1bcadc76",
      "metadata": {
        "id": "1bcadc76"
      },
      "outputs": [],
      "source": []
    },
    {
      "cell_type": "markdown",
      "id": "f9eea646",
      "metadata": {
        "id": "f9eea646"
      },
      "source": [
        "e. Determinar si la relación es **transitiva**."
      ]
    },
    {
      "cell_type": "code",
      "execution_count": null,
      "id": "30d69a9d",
      "metadata": {
        "id": "30d69a9d"
      },
      "outputs": [],
      "source": []
    }
  ],
  "metadata": {
    "kernelspec": {
      "display_name": "Python 3 (ipykernel)",
      "language": "python",
      "name": "python3"
    },
    "language_info": {
      "codemirror_mode": {
        "name": "ipython",
        "version": 3
      },
      "file_extension": ".py",
      "mimetype": "text/x-python",
      "name": "python",
      "nbconvert_exporter": "python",
      "pygments_lexer": "ipython3",
      "version": "3.9.7"
    },
    "colab": {
      "provenance": []
    }
  },
  "nbformat": 4,
  "nbformat_minor": 5
}